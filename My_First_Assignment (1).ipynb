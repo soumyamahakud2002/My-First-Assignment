{
  "nbformat": 4,
  "nbformat_minor": 0,
  "metadata": {
    "colab": {
      "provenance": []
    },
    "kernelspec": {
      "name": "python3",
      "display_name": "Python 3"
    },
    "language_info": {
      "name": "python"
    }
  },
  "cells": [
    {
      "cell_type": "code",
      "execution_count": null,
      "metadata": {
        "id": "q9GAd11QPHzh"
      },
      "outputs": [],
      "source": []
    },
    {
      "cell_type": "markdown",
      "source": [
        "\n",
        "                  Python basics Questions\n"
      ],
      "metadata": {
        "id": "w4Lb9W4aU41t"
      }
    },
    {
      "cell_type": "code",
      "source": [
        "1. What is Python, and why is it popular?\n",
        "Python is a high-level, interpreted programming language known for its simplicity, readability, and versatility. It's popular due to its ease of use, extensive libraries, and large community, making it a favorite among beginners, experts, and industries.\n",
        "\n",
        "2. What is an interpreter in Python?\n",
        "An interpreter is a program that directly executes the source code, line by line, without compiling it first. Python's interpreter translates the code into machine code and executes it immediately.\n",
        "\n",
        "3. What are pre-defined keywords in Python?\n",
        "Pre-defined keywords are reserved words with special meanings in Python, such as if, else, for, while, class, def, etc.\n",
        "\n",
        "4. Can keywords be used as variable names?\n",
        "No, keywords cannot be used as variable names in Python, as they have special meanings and using them as variable names would cause syntax errors.\n",
        "\n",
        "5. What is mutability in Python?\n",
        "Mutability refers to the ability of an object to be modified after its creation. In Python, some data types, like lists and dictionaries, are mutable, while others, like tuples and strings, are immutable.\n",
        "\n",
        "6. Why are lists mutable, but tuples are immutable?\n",
        "Lists are mutable because they are designed to be dynamic and flexible, allowing elements to be added, removed, or modified. Tuples, on the other hand, are immutable because they are designed to be fixed and secure, ensuring data integrity and preventing unintended changes.\n",
        "\n",
        "7. What is the difference between \"==\" and \"is\" operators in Python?\n",
        "The == operator checks for equality of values, while the is operator checks for identity, i.e., whether both variables refer to the same object in memory.\n",
        "\n",
        "8. What are logical operators in Python?\n",
        "Logical operators are used to combine conditional statements. Python's logical operators include and, or, and not.\n",
        "\n",
        "9. What is type casting in Python?\n",
        "Type casting is the process of converting a value from one data type to another. Python provides explicit type casting using functions like int(), float(), and str().\n",
        "\n",
        "10. What is the difference between implicit and explicit type casting?\n",
        "Implicit type casting occurs automatically when Python encounters an operation that requires a specific data type. Explicit type casting is done manually using functions like int() or float().\n",
        "\n",
        "11. What is the purpose of conditional statements in Python?\n",
        "Conditional statements (if, elif, else) allow the program to make decisions based on conditions or Boolean expressions, controlling the flow of the program.\n",
        "\n",
        "12. How does the elif statement work?\n",
        "The elif statement is short for \"else if.\" It's used to check another condition if the initial if condition is false. If the elif condition is true, the corresponding code block is executed.\n",
        "\n",
        "13. What is the difference between for and while loops?\n",
        "for loops are used to iterate over a sequence (like a list or string) for a fixed number of iterations. while loops continue to execute as long as a certain condition is true.\n",
        "\n",
        "14. Describe a scenario where a while loop is more suitable than a for loop.\n",
        "A while loop is more suitable when the number of iterations is unknown or depends on a condition, such as reading input from a user until they decide to quit.\n",
        "\n",
        "\n"
      ],
      "metadata": {
        "id": "oCnbJUy1WkDG"
      },
      "execution_count": null,
      "outputs": []
    },
    {
      "cell_type": "markdown",
      "source": [
        "# Practical Questions"
      ],
      "metadata": {
        "id": "DwbXEGq0cGH2"
      }
    },
    {
      "cell_type": "markdown",
      "source": [
        "1. Write a Python program to print 'Hello, World!\""
      ],
      "metadata": {
        "id": "duhmNpZIdDTp"
      }
    },
    {
      "cell_type": "code",
      "source": [
        "print(\"Hello World!\")"
      ],
      "metadata": {
        "colab": {
          "base_uri": "https://localhost:8080/"
        },
        "id": "w9ocHy0FdKSF",
        "outputId": "ab940bc7-cf5a-4f46-dc74-87e03b3b63a2"
      },
      "execution_count": null,
      "outputs": [
        {
          "output_type": "stream",
          "name": "stdout",
          "text": [
            "Hello World!\n"
          ]
        }
      ]
    },
    {
      "cell_type": "code",
      "source": [
        "2. Write a Python program that displays your name and age.\n"
      ],
      "metadata": {
        "id": "hMjeK_b_dNOY"
      },
      "execution_count": null,
      "outputs": []
    },
    {
      "cell_type": "code",
      "source": [
        "name = \"soumya Mhakhuda\"\n",
        "age = 25\n",
        "print(f\"My name is {name} and I am {age} years old.\")"
      ],
      "metadata": {
        "colab": {
          "base_uri": "https://localhost:8080/"
        },
        "id": "D5RKlm7MdfnH",
        "outputId": "82615bdc-204d-409b-9769-baebdd31684a"
      },
      "execution_count": 2,
      "outputs": [
        {
          "output_type": "stream",
          "name": "stdout",
          "text": [
            "My name is Yash Gupta and I am 25 years old.\n"
          ]
        }
      ]
    },
    {
      "cell_type": "code",
      "source": [
        "3. Write code to print all the pre-defined keywords in Python using the keyword library.\n"
      ],
      "metadata": {
        "id": "VPPnMihrdnCF"
      },
      "execution_count": null,
      "outputs": []
    },
    {
      "cell_type": "code",
      "source": [
        "import keyword\n",
        "print(keyword.kwlist)\n"
      ],
      "metadata": {
        "colab": {
          "base_uri": "https://localhost:8080/"
        },
        "id": "dLOIugQudzK5",
        "outputId": "07b287ad-f1cf-42a6-c19a-a179883abac9"
      },
      "execution_count": null,
      "outputs": [
        {
          "output_type": "stream",
          "name": "stdout",
          "text": [
            "['False', 'None', 'True', 'and', 'as', 'assert', 'async', 'await', 'break', 'class', 'continue', 'def', 'del', 'elif', 'else', 'except', 'finally', 'for', 'from', 'global', 'if', 'import', 'in', 'is', 'lambda', 'nonlocal', 'not', 'or', 'pass', 'raise', 'return', 'try', 'while', 'with', 'yield']\n"
          ]
        }
      ]
    },
    {
      "cell_type": "code",
      "source": [
        "4. Write a program that checks if a given word is a Python keyword.\n"
      ],
      "metadata": {
        "id": "Ngf7657Sd211"
      },
      "execution_count": null,
      "outputs": []
    },
    {
      "cell_type": "code",
      "source": [
        "import keyword\n",
        "word = input(\"Enter a word: \")\n",
        "if keyword.iskeyword(word):\n",
        "    print(f\"'{word}' is a Python keyword.\")\n",
        "else:\n",
        "    print(f\"'{word}' is not a Python keyword.\")\n",
        "\n"
      ],
      "metadata": {
        "colab": {
          "base_uri": "https://localhost:8080/"
        },
        "id": "CFsjV02dd7UN",
        "outputId": "c3ccf3cd-fd8e-408e-8b8d-f9200a25b1c8"
      },
      "execution_count": null,
      "outputs": [
        {
          "output_type": "stream",
          "name": "stdout",
          "text": [
            "Enter a word: if\n",
            "'if' is a Python keyword.\n"
          ]
        }
      ]
    },
    {
      "cell_type": "code",
      "source": [
        "5. Create a list and tuple in Python, and demonstrate how attempting to change an element works differently for each.\n"
      ],
      "metadata": {
        "id": "AZhrsXetd-JT"
      },
      "execution_count": null,
      "outputs": []
    },
    {
      "cell_type": "code",
      "source": [
        "# List\n",
        "my_list = [1, 2, 3]\n",
        "print(\"Original List:\", my_list)\n",
        "my_list[1] = 10\n",
        "print(\"List after modification:\", my_list)\n",
        "\n",
        "# Tuple\n",
        "my_tuple = (1, 2, 3)\n",
        "print(\"Original Tuple:\", my_tuple)\n",
        "try:\n",
        "    my_tuple[1] = 10\n",
        "except TypeError:\n",
        "    print(\"Tuples are immutable and cannot be modified.\")\n"
      ],
      "metadata": {
        "colab": {
          "base_uri": "https://localhost:8080/"
        },
        "id": "ddAgVhDnePbc",
        "outputId": "e8d2a39a-cbbf-4f92-9bc8-844766da3d7f"
      },
      "execution_count": null,
      "outputs": [
        {
          "output_type": "stream",
          "name": "stdout",
          "text": [
            "Original List: [1, 2, 3]\n",
            "List after modification: [1, 10, 3]\n",
            "Original Tuple: (1, 2, 3)\n",
            "Tuples are immutable and cannot be modified.\n"
          ]
        }
      ]
    },
    {
      "cell_type": "code",
      "source": [
        "6. Write a function to demonstrate the behavior of mutable and immutable arguments.\n"
      ],
      "metadata": {
        "id": "n70f9yJHeS3t"
      },
      "execution_count": null,
      "outputs": []
    },
    {
      "cell_type": "code",
      "source": [
        "def modify_args(mut_list, imm_tuple):\n",
        "    mut_list.append(4)\n",
        "    try:\n",
        "        imm_tuple[0] = 4\n",
        "    except TypeError:\n",
        "        print(\"Tuples are immutable and cannot be modified.\")\n",
        "\n",
        "mut_list = [1, 2, 3]\n",
        "imm_tuple = (1, 2, 3)\n",
        "\n",
        "print(\"Original List:\", mut_list)\n",
        "print(\"Original Tuple:\", imm_tuple)\n",
        "\n",
        "modify_args(mut_list, imm_tuple)\n",
        "\n",
        "print(\"List after modification:\", mut_list)\n",
        "print(\"Tuple after modification:\", imm_tuple)\n"
      ],
      "metadata": {
        "colab": {
          "base_uri": "https://localhost:8080/"
        },
        "id": "DDiKKtCvfgfb",
        "outputId": "c62eb9ab-7166-4893-be16-00a8ad4d2d99"
      },
      "execution_count": null,
      "outputs": [
        {
          "output_type": "stream",
          "name": "stdout",
          "text": [
            "Original List: [1, 2, 3]\n",
            "Original Tuple: (1, 2, 3)\n",
            "Tuples are immutable and cannot be modified.\n",
            "List after modification: [1, 2, 3, 4]\n",
            "Tuple after modification: (1, 2, 3)\n"
          ]
        }
      ]
    },
    {
      "cell_type": "code",
      "source": [
        "7. Write a function to demonstrate the behavior of mutable and immutable arguments."
      ],
      "metadata": {
        "id": "nZd7tMbrfm5J"
      },
      "execution_count": null,
      "outputs": []
    },
    {
      "cell_type": "code",
      "source": [
        "def modify_args(mut_list, imm_tuple):\n",
        "    mut_list.append(4)\n",
        "    try:\n",
        "        imm_tuple[0] = 4\n",
        "    except TypeError:\n",
        "        print(\"Tuples are immutable and cannot be modified.\")\n",
        "\n",
        "mut_list = [1, 2, 3]\n",
        "imm_tuple = (1, 2, 3)\n",
        "\n",
        "print(\"Original List:\", mut_list)\n",
        "print(\"Original Tuple:\", imm_tuple)\n",
        "\n",
        "modify_args(mut_list, imm_tuple)\n",
        "\n",
        "print(\"List after modification:\", mut_list)\n",
        "print(\"Tuple after modification:\", imm_tuple)\n"
      ],
      "metadata": {
        "colab": {
          "base_uri": "https://localhost:8080/"
        },
        "id": "VzilmteEfyG2",
        "outputId": "37042e73-be35-490f-85d9-97dcbfd183e6"
      },
      "execution_count": null,
      "outputs": [
        {
          "output_type": "stream",
          "name": "stdout",
          "text": [
            "Original List: [1, 2, 3]\n",
            "Original Tuple: (1, 2, 3)\n",
            "Tuples are immutable and cannot be modified.\n",
            "List after modification: [1, 2, 3, 4]\n",
            "Tuple after modification: (1, 2, 3)\n"
          ]
        }
      ]
    },
    {
      "cell_type": "code",
      "source": [
        "8. Write a program to demonstrate the use of logical operators.\n"
      ],
      "metadata": {
        "id": "bxfN9Kthf3d1"
      },
      "execution_count": null,
      "outputs": []
    },
    {
      "cell_type": "code",
      "source": [
        "a = True\n",
        "b = False\n",
        "\n",
        "print(\"a and b:\", a and b)\n",
        "print(\"a or b:\", a or b)\n",
        "print(\"not a:\", not a)\n"
      ],
      "metadata": {
        "colab": {
          "base_uri": "https://localhost:8080/"
        },
        "id": "ibCB8_FIf9DH",
        "outputId": "fbee6288-8d96-4886-8b68-bd0ecbfb4da0"
      },
      "execution_count": null,
      "outputs": [
        {
          "output_type": "stream",
          "name": "stdout",
          "text": [
            "a and b: False\n",
            "a or b: True\n",
            "not a: False\n"
          ]
        }
      ]
    },
    {
      "cell_type": "code",
      "source": [
        "9. Write a Python program to convert user input from string to integer, float, and boolean types.\n"
      ],
      "metadata": {
        "id": "Vl5XGuKPf-_m"
      },
      "execution_count": null,
      "outputs": []
    },
    {
      "cell_type": "code",
      "source": [
        "user_input = input(\"Enter a value: \")\n",
        "\n",
        "try:\n",
        "    int_val = int(user_input)\n",
        "    print(\"Integer value:\", int_val)\n",
        "except ValueError:\n",
        "    print(\"Cannot convert to integer\")\n",
        "\n",
        "try:\n",
        "    float_val = float(user_input)\n",
        "    print(\"Float value:\", float_val)\n",
        "except ValueError:\n",
        "    print(\"Cannot convert to float\")\n",
        "\n",
        "try:\n",
        "    bool_val = bool(user_input)\n",
        "    print(\"Boolean value:\", bool_val)\n",
        "except ValueError:\n",
        "    print(\"Cannot convert to boolean\")\n"
      ],
      "metadata": {
        "colab": {
          "base_uri": "https://localhost:8080/"
        },
        "id": "BXIs7LUYgENu",
        "outputId": "b57a3097-eed9-4d1d-c231-09b41ba244db"
      },
      "execution_count": null,
      "outputs": [
        {
          "output_type": "stream",
          "name": "stdout",
          "text": [
            "Enter a value: 5\n",
            "Integer value: 5\n",
            "Float value: 5.0\n",
            "Boolean value: True\n"
          ]
        }
      ]
    },
    {
      "cell_type": "code",
      "source": [
        "10. Write code to demonstrate type casting with list elements."
      ],
      "metadata": {
        "id": "nhMgD5vugKbC"
      },
      "execution_count": null,
      "outputs": []
    },
    {
      "cell_type": "code",
      "source": [
        "my_list = [1, 2, 3, 4, 5]\n",
        "\n",
        "print(\"Original List:\", my_list)\n",
        "\n",
        "str_list = [str(i) for i in my_list]\n",
        "print(\"List after converting to string:\", str_list)\n",
        "\n",
        "int_list = [int(i) for i in str_list]\n",
        "print(\"List after converting back to integer:\", int_list)"
      ],
      "metadata": {
        "colab": {
          "base_uri": "https://localhost:8080/"
        },
        "id": "apSMOg3vgUc4",
        "outputId": "aaad8a71-05d7-4ee4-a416-1829cee308b3"
      },
      "execution_count": null,
      "outputs": [
        {
          "output_type": "stream",
          "name": "stdout",
          "text": [
            "Original List: [1, 2, 3, 4, 5]\n",
            "List after converting to string: ['1', '2', '3', '4', '5']\n",
            "List after converting back to integer: [1, 2, 3, 4, 5]\n"
          ]
        }
      ]
    },
    {
      "cell_type": "code",
      "source": [
        "11. Write a program that checks if a number is positive, negative, or zero."
      ],
      "metadata": {
        "id": "_rc3YUrQgXbB"
      },
      "execution_count": null,
      "outputs": []
    },
    {
      "cell_type": "code",
      "source": [
        "num = float(input(\"Enter a number: \"))\n",
        "\n",
        "if num > 0:\n",
        "    print(\"The number is positive.\")\n",
        "elif num < 0:\n",
        "    print(\"The number is negative.\")\n",
        "else:\n",
        "    print(\"The number is zero.\")\n"
      ],
      "metadata": {
        "colab": {
          "base_uri": "https://localhost:8080/"
        },
        "id": "hJq1uFHKgdat",
        "outputId": "d2e32867-b715-4d13-ddd8-42c09933cd9e"
      },
      "execution_count": null,
      "outputs": [
        {
          "output_type": "stream",
          "name": "stdout",
          "text": [
            "Enter a number: 4\n",
            "The number is positive.\n"
          ]
        }
      ]
    },
    {
      "cell_type": "code",
      "source": [
        "\n",
        "12. Write a for loop to print numbers from 1 to 10.\n"
      ],
      "metadata": {
        "id": "2pF4wq4WghQd"
      },
      "execution_count": null,
      "outputs": []
    },
    {
      "cell_type": "code",
      "source": [
        "for i in range(1, 11):\n",
        "    print(i)\n"
      ],
      "metadata": {
        "colab": {
          "base_uri": "https://localhost:8080/"
        },
        "id": "rfMaspLngm_m",
        "outputId": "ab6bb3d4-43c2-4797-bf1d-2b73b9fbc537"
      },
      "execution_count": null,
      "outputs": [
        {
          "output_type": "stream",
          "name": "stdout",
          "text": [
            "1\n",
            "2\n",
            "3\n",
            "4\n",
            "5\n",
            "6\n",
            "7\n",
            "8\n",
            "9\n",
            "10\n"
          ]
        }
      ]
    },
    {
      "cell_type": "code",
      "source": [
        "13. Write a Python program to find the sum of all even numbers between 1 and 50."
      ],
      "metadata": {
        "id": "0k53hjOggpZ7"
      },
      "execution_count": null,
      "outputs": []
    },
    {
      "cell_type": "code",
      "source": [
        "sum_even = sum(i for i in range(1, 51) if i % 2 == 0)\n",
        "print(\"Sum of even numbers between 1 and 50:\", sum_even)"
      ],
      "metadata": {
        "colab": {
          "base_uri": "https://localhost:8080/"
        },
        "id": "FLRaC0HcguQY",
        "outputId": "6b0be3ac-c091-41ae-a52e-d324dccf809c"
      },
      "execution_count": null,
      "outputs": [
        {
          "output_type": "stream",
          "name": "stdout",
          "text": [
            "Sum of even numbers between 1 and 50: 650\n"
          ]
        }
      ]
    },
    {
      "cell_type": "code",
      "source": [
        "14. Write a program to reverse a string using a while loop."
      ],
      "metadata": {
        "id": "KORfC2uBgzSb"
      },
      "execution_count": null,
      "outputs": []
    },
    {
      "cell_type": "code",
      "source": [
        "def reverse_string(s):\n",
        "    reversed_s = \"\"\n",
        "    i = len(s) - 1\n",
        "    while i >= 0:\n",
        "        reversed_s += s[i]\n",
        "        i -= 1\n",
        "    return reversed_s\n",
        "\n",
        "s = input(\"Enter a string: \")\n",
        "print(\"Reversed string:\", reverse_string(s))"
      ],
      "metadata": {
        "colab": {
          "base_uri": "https://localhost:8080/"
        },
        "id": "uAo3KKMyg_ec",
        "outputId": "4dc56b17-aae7-4ecc-9e25-c6dbf169680c"
      },
      "execution_count": null,
      "outputs": [
        {
          "output_type": "stream",
          "name": "stdout",
          "text": [
            "Enter a string: 5\n",
            "Reversed string: 5\n"
          ]
        }
      ]
    },
    {
      "cell_type": "code",
      "source": [
        "15. Write a Python program to calculate the factorial of a number provided by the user using a while loop."
      ],
      "metadata": {
        "id": "eXaC6l97hA_5"
      },
      "execution_count": null,
      "outputs": []
    },
    {
      "cell_type": "code",
      "source": [
        "def factorial(n):\n",
        "    fact = 1\n",
        "    i = 1\n",
        "    while i <= n:\n",
        "        fact *= i\n",
        "        i += 1\n",
        "    return fact\n",
        "\n",
        "n = int(input(\"Enter a number: \"))\n",
        "print(\"Factorial of\", n, \"is:\", factorial(n))"
      ],
      "metadata": {
        "colab": {
          "base_uri": "https://localhost:8080/"
        },
        "id": "5ZhJ-8WvhLwH",
        "outputId": "6c3f96f2-f478-4e4a-8440-16edb53b7a1f"
      },
      "execution_count": null,
      "outputs": [
        {
          "name": "stdout",
          "output_type": "stream",
          "text": [
            "Enter a number: 7\n",
            "Factorial of 7 is: 5040\n",
            "Enter a number: 5\n"
          ]
        }
      ]
    },
    {
      "cell_type": "code",
      "source": [],
      "metadata": {
        "id": "JtU2xLoThRYZ"
      },
      "execution_count": null,
      "outputs": []
    }
  ]
}